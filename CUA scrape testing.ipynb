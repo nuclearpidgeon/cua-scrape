{
 "cells": [
  {
   "cell_type": "code",
   "execution_count": null,
   "metadata": {},
   "outputs": [],
   "source": [
    "require 'selenium-webdriver'\n",
    "require 'date'\n",
    "\n",
    "puts \"Using Selenium WebDriver version #{Selenium::WebDriver::VERSION}\"\n",
    "\n",
    "download_dir_path = File.join(Dir.home, \"cua-scrape-#{Date.today.strftime('%F')}\")\n",
    "if !Dir.exists?(download_dir_path) then\n",
    "  Dir.mkdir(download_dir_path)\n",
    "end\n",
    "puts \"Using CSV download directory of #{download_dir_path}\"\n",
    "prerun_dir_files = Dir.children(download_dir_path)\n",
    "\n",
    "profile = Selenium::WebDriver::Firefox::Profile.new\n",
    "ff_opts = Selenium::WebDriver::Firefox::Options.new(profile: profile)\n",
    "ff_opts.add_preference('browser.download.dir', download_dir_path)\n",
    "ff_opts.add_preference('browser.download.useDownloadDir', true)\n",
    "ff_opts.add_preference('browser.helperApps.neverAsk.saveToDisk', \"text/csv\")\n",
    "driver = Selenium::WebDriver.for :firefox, options: ff_opts\n"
   ]
  },
  {
   "cell_type": "code",
   "execution_count": null,
   "metadata": {},
   "outputs": [],
   "source": [
    "#driver.close"
   ]
  },
  {
   "cell_type": "code",
   "execution_count": null,
   "metadata": {},
   "outputs": [],
   "source": [
    "# Navigate to URL\n",
    "driver.get 'https://ob.greatsouthernbank.com.au/'\n"
   ]
  },
  {
   "cell_type": "code",
   "execution_count": null,
   "metadata": {},
   "outputs": [],
   "source": [
    "credentials = IRuby.popup 'enter access credentials' do \n",
    "  input :username, label: \"Username / member no\"\n",
    "  password :wac, label: \"WAC\"\n",
    "  button\n",
    "end\n",
    "\n",
    "username_field = driver.find_element(id: 'userName')\n",
    "# puts(\"Enter username/member no:\")\n",
    "# username = gets\n",
    "# username_field.send_keys username\n",
    "username_field.send_keys credentials[:username]\n",
    "\n",
    "wac_field = driver.find_element(id: 'wac')\n",
    "# puts(\"Enter WAC:\")\n",
    "# user_wac = gets\n",
    "# wac_field.send_keys user_wac\n",
    "wac_field.send_keys credentials[:wac]"
   ]
  },
  {
   "cell_type": "code",
   "execution_count": null,
   "metadata": {},
   "outputs": [],
   "source": [
    "login_button = driver.find_element(id: 'login')\n",
    "login_button.click"
   ]
  },
  {
   "cell_type": "code",
   "execution_count": null,
   "metadata": {},
   "outputs": [],
   "source": [
    "# Account summary is displayed in a frame called 'head4'\n",
    "# ...but the account smmary is loaded with AJAX >:(\n",
    "wait = Selenium::WebDriver::Wait.new(:timeout => 4)\n",
    "# wait till the frame exists\n",
    "wait.until { driver.find_element(id: 'head4')}\n",
    "# switch into it\n",
    "driver.switch_to.frame 'head4'\n",
    "# wait till the account summary has loaded\n",
    "wait.until { driver.find_element(id: 'accountsSummaryDash') }\n",
    "\n",
    "puts \"account summary has loaded\""
   ]
  },
  {
   "cell_type": "code",
   "execution_count": null,
   "metadata": {},
   "outputs": [],
   "source": [
    "# the account summary elements are fucking stupid because every link\n",
    "# for each account has the SAME ID. which is technically illegal HTML.\n",
    "#\n",
    "# notes from docs:\n",
    "#     When using Element#find_element with :xpath, be aware that webdriver\n",
    "#     follows standard conventions: a search prefixed with “//” will search\n",
    "#     the entire document, not just the children of this current node.\n",
    "#     Use “.//” to limit your search to the children of the receiving Element.\n",
    "accounts_table = driver.find_element(id: 'accountDash')\n",
    "def find_account_link(accounts_table, account_no)\n",
    "  raise \"invalid account_no of '#{account_no}'\" if !(/\\d+/ =~ account_no)\n",
    "  return accounts_table.find_element(xpath: \".//tbody/tr/td/a[contains(text(),'#{account_no}')]\")\n",
    "end\n",
    "\n",
    "account_form = IRuby.popup 'enter account number' do \n",
    "  input :account_number, label: \"Account Number (e.g. 12345678)\"\n",
    "  button\n",
    "end\n",
    "\n",
    "account_id_initial = account_form[:account_number]\n",
    "\n",
    "if not account_id_initial.match? /^\\d+$/ then\n",
    "  raise \"account number must be sequence of digits!\"\n",
    "end\n",
    "\n",
    "  account_link = find_account_link(accounts_table, account_id_initial)\n",
    "account_link.click\n",
    "\n",
    "# transaction list will now load in the same 'head4' frame.\n",
    "# wait till it has loaded:\n",
    "# the transaction list USED to be in <body id=\"accountStatement\" /> but\n",
    "# it seems they 'upgraded'? the system at one point and changed the ID to\n",
    "# accountStatementUpgrade\n",
    "# wait.until { driver.find_element(id: 'accountStatement') }\n",
    "wait.until { driver.find_element(id: 'accountStatementUpgrade') }\n",
    "puts \"account statement for account \\##{account_id_initial} is ready\"\n"
   ]
  },
  {
   "cell_type": "markdown",
   "metadata": {},
   "source": [
    "current DOM layout:\n",
    "\n",
    "    html\n",
    "      body#accountStatementUpgrade\n",
    "      \\>form#transaction\n",
    "      |   div.navbar.formleftmargin\n",
    "      |     div.navbar-inner\n",
    "      |       ul.row-fluid\n",
    "      |         ul.row-fluid.verticalContainerPosition\n",
    "      |           li.verticalLeftContainer.control-group.success.ie8padding.relativelyPositioned\n",
    "      |           li.verticalRightContainer.control-group.success.ie8padding.relativelyPositioned\n",
    "      |             div#transaction_daterange-main.__destroy__.bancs-comboBox.bancs-comboBoxDestroyed4\n",
    "      |               a#transaction_daterange-box.transaction_daterange_box\n",
    "      |                 span#transaction_daterange-input.bancs-comboBox_inputs\n",
    "      |                 span#transaction_daterange-button.bancs-comboBox_buttons\n",
    "      \\>form#transactionExport\n",
    "          div#changeZindex1.navbar.formleftmargin.zindex1imp\n",
    "            div#changeZindex3.navbar-inner.bottomPadding.relativelyPositioned.zindex3imp\n",
    "              ul#accTxn.row-fluid.relatedAcc\n",
    "                ul.overrideFluidPadding\n",
    "                  ul.row-fluid.flyOutMenu.accountDetails.actionsMenu\n",
    "                  ul.row-fluid.flyOutMenu.accountDetails.exportMenu\n",
    "                    li#changeClassLoad\n",
    "                      a#menubutton1.anchor.accountStatementAction.textStyle1\n",
    "                  ul.row-fluid.verticalContainerPosition\n",
    "                    li.success.ie8padding\n",
    "                      div#accountStatement_print a.textStyle1\n"
   ]
  },
  {
   "cell_type": "code",
   "execution_count": null,
   "metadata": {},
   "outputs": [],
   "source": [
    "\n",
    "# need to change the transaction list to one going back 6 months.\n",
    "# open the date range dropdown\n",
    "def change_txn_list_to_six_months(driver)\n",
    "  daterange_btn = driver.find_element(id: 'transaction_daterange-button')\n",
    "  daterange_btn.click\n",
    "\n",
    "  # \"The last 6 months\" option is IDed as follows...\n",
    "  six_months_option = driver.find_element(id: 'transaction_daterange-lists_7')\n",
    "  # log out what the text says just in case\n",
    "  puts \"Selecting 6-months option with text '#{six_months_option.text}'\"\n",
    "  six_months_option.click\n",
    "end\n",
    "\n",
    "change_txn_list_to_six_months(driver)\n",
    "\n",
    "def run_txn_list_report(driver)\n",
    "  # run the report\n",
    "  puts \"Running report...\"\n",
    "  driver.find_element(id: 'accountStatement_generate').click\n",
    "  # this might actually take a bit of time, so grant a more generous timeout\n",
    "  wait = Selenium::WebDriver::Wait.new(:timeout => 10)\n",
    "  wait.until { driver.execute_script('return document.readyState;') == 'complete' }\n",
    "  puts \"report ready\"\n",
    "end\n",
    "\n",
    "run_txn_list_report(driver)"
   ]
  },
  {
   "cell_type": "code",
   "execution_count": null,
   "metadata": {},
   "outputs": [],
   "source": [
    "# now do a CSV export\n",
    "def do_csv_export(driver)\n",
    "  export_menu = driver.find_element(css: 'ul.exportMenu')\n",
    "  export_menu.find_element(xpath: './/li[1]/a').click\n",
    "  export_menu.find_element(xpath: \".//li[1]/ul/li/a[contains(text(),'CSV')]\").click\n",
    "end\n"
   ]
  },
  {
   "cell_type": "code",
   "execution_count": null,
   "metadata": {},
   "outputs": [],
   "source": [
    "do_csv_export(driver)"
   ]
  },
  {
   "cell_type": "code",
   "execution_count": null,
   "metadata": {},
   "outputs": [],
   "source": [
    "def change_txn_list_account(driver, account_number)\n",
    "  acct_dropdown_btn = driver.find_element(id: 'transaction_savingsandcurrentaccounts-button')\n",
    "  acct_dropdown_btn.click\n",
    "  wait = Selenium::WebDriver::Wait.new(:timeout => 1)\n",
    "  account_list = wait.until {\n",
    "    driver.find_element(id: 'transaction_savingsandcurrentaccounts-lists')\n",
    "  }\n",
    "  account_list_item = account_list.find_element(xpath: \".//li[contains(text(),'#{account_number}')]\")\n",
    "  account_list_item.click\n",
    "end\n",
    "\n",
    "account_form = IRuby.popup 'enter account number' do \n",
    "  input :account_number, label: \"Account Number (e.g. 12345678)\"\n",
    "  button\n",
    "end\n",
    "\n",
    "account_id_second = account_form[:account_number]\n",
    "\n",
    "if not account_id_second.match? /^\\d+$/ then\n",
    "  raise \"account number must be sequence of digits!\"\n",
    "end\n",
    "\n",
    "  change_txn_list_account(driver, account_id_second)\n",
    "# changing account causes date range reset, so choose 6 months again\n",
    "change_txn_list_to_six_months(driver)\n",
    "\n",
    "run_txn_list_report(driver)"
   ]
  },
  {
   "cell_type": "code",
   "execution_count": null,
   "metadata": {},
   "outputs": [],
   "source": [
    "do_csv_export(driver)"
   ]
  },
  {
   "cell_type": "code",
   "execution_count": null,
   "metadata": {},
   "outputs": [],
   "source": []
  }
 ],
 "metadata": {
  "kernelspec": {
   "display_name": "Ruby 2.7.0",
   "language": "ruby",
   "name": "ruby"
  },
  "language_info": {
   "file_extension": ".rb",
   "mimetype": "application/x-ruby",
   "name": "ruby",
   "version": "2.7.0"
  }
 },
 "nbformat": 4,
 "nbformat_minor": 4
}
